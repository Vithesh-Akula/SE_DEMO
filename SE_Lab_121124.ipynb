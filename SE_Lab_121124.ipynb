{
  "nbformat": 4,
  "nbformat_minor": 0,
  "metadata": {
    "colab": {
      "provenance": [],
      "authorship_tag": "ABX9TyN1JGqnxyTZ4B9lHYSzMZmS",
      "include_colab_link": true
    },
    "kernelspec": {
      "name": "python3",
      "display_name": "Python 3"
    },
    "language_info": {
      "name": "python"
    }
  },
  "cells": [
    {
      "cell_type": "markdown",
      "metadata": {
        "id": "view-in-github",
        "colab_type": "text"
      },
      "source": [
        "<a href=\"https://colab.research.google.com/github/Vithesh-Akula/SE_DEMO/blob/main/SE_Lab_121124.ipynb\" target=\"_parent\"><img src=\"https://colab.research.google.com/assets/colab-badge.svg\" alt=\"Open In Colab\"/></a>"
      ]
    },
    {
      "cell_type": "markdown",
      "source": [
        "1.\tHardcoding Variables"
      ],
      "metadata": {
        "id": "BT8Ma_7ZO6y8"
      }
    },
    {
      "cell_type": "code",
      "execution_count": null,
      "metadata": {
        "colab": {
          "base_uri": "https://localhost:8080/"
        },
        "id": "Zc6DpFbxLgpO",
        "outputId": "006982f5-ba5e-46fc-acb4-6de63c087bc4"
      },
      "outputs": [
        {
          "output_type": "stream",
          "name": "stdout",
          "text": [
            "Length = 10, Breadth = 5, Area = 50\n"
          ]
        }
      ],
      "source": [
        "length = 10\n",
        "breadth = 5\n",
        "area = length * breadth\n",
        "print(f\"Length = {length}, Breadth = {breadth}, Area = {area}\")"
      ]
    },
    {
      "cell_type": "markdown",
      "source": [
        "2.\tKeyboard Input"
      ],
      "metadata": {
        "id": "FmYbjCa4O_rp"
      }
    },
    {
      "cell_type": "code",
      "source": [
        "length = float(input(\"Enter the length of the rectangle: \"))\n",
        "breadth = float(input(\"Enter the breadth of the rectangle: \"))\n",
        "area = length * breadth\n",
        "print(f\"You Entered: Length = {length}, Breadth = {breadth}, Area = {area}\")"
      ],
      "metadata": {
        "colab": {
          "base_uri": "https://localhost:8080/"
        },
        "id": "wFxHimg0L19W",
        "outputId": "606983b6-c380-4a71-a446-6fb7363a05d6"
      },
      "execution_count": null,
      "outputs": [
        {
          "output_type": "stream",
          "name": "stdout",
          "text": [
            "Enter the length of the rectangle: 12\n",
            "Enter the breadth of the rectangle: 5\n",
            "You Entered: Length = 12.0, Breadth = 5.0, Area = 60.0\n"
          ]
        }
      ]
    },
    {
      "cell_type": "markdown",
      "source": [
        "3.\tRead From File (Single Input)"
      ],
      "metadata": {
        "id": "B2djzIusPCEp"
      }
    },
    {
      "cell_type": "code",
      "source": [
        "file_path = 'single_input.txt'\n",
        "try:\n",
        "    with open(file_path, 'r') as file:\n",
        "        length, breadth = map(float, file.readline().split())\n",
        "        area = length * breadth\n",
        "        print(f\"Data Read from File: Length = {length}, Breadth = {breadth}, Area = {area}\")\n",
        "except FileNotFoundError:\n",
        "    print(\"File not found!\")\n",
        "except ValueError:\n",
        "    print(\"Invalid data format in file!\")"
      ],
      "metadata": {
        "colab": {
          "base_uri": "https://localhost:8080/"
        },
        "id": "Ux_qXz3dMPF8",
        "outputId": "07676d7a-ef77-4635-e822-3fbdc001e43a"
      },
      "execution_count": null,
      "outputs": [
        {
          "output_type": "stream",
          "name": "stdout",
          "text": [
            "Data Read from File: Length = 10.0, Breadth = 5.0, Area = 50.0\n"
          ]
        }
      ]
    },
    {
      "cell_type": "markdown",
      "source": [
        "4.\tRead From File (Multiple Inputs)"
      ],
      "metadata": {
        "id": "_U-NBalOPHgJ"
      }
    },
    {
      "cell_type": "code",
      "source": [
        "file_path = 'multiple_inputs.txt'\n",
        "try:\n",
        "    with open(file_path, 'r') as file:\n",
        "        for line in file:\n",
        "            length, breadth = map(float, line.split())\n",
        "            area = length * breadth\n",
        "            print(f\"Length = {length}, Breadth = {breadth}, Area = {area}\")\n",
        "except FileNotFoundError:\n",
        "    print(\"File not found!\")\n",
        "except ValueError:\n",
        "    print(\"Invalid data format in file!\")"
      ],
      "metadata": {
        "colab": {
          "base_uri": "https://localhost:8080/"
        },
        "id": "on6gAOpLN3R6",
        "outputId": "0ebef97a-025d-4f4c-df7b-f483e15a6dc2"
      },
      "execution_count": null,
      "outputs": [
        {
          "output_type": "stream",
          "name": "stdout",
          "text": [
            "Length = 10.0, Breadth = 5.0, Area = 50.0\n",
            "Length = 20.0, Breadth = 10.0, Area = 200.0\n",
            "Length = 15.0, Breadth = 8.0, Area = 120.0\n"
          ]
        }
      ]
    }
  ]
}