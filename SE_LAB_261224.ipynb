{
  "nbformat": 4,
  "nbformat_minor": 0,
  "metadata": {
    "colab": {
      "provenance": [],
      "authorship_tag": "ABX9TyMhUqBt0DleRsWqBNFK1yg1",
      "include_colab_link": true
    },
    "kernelspec": {
      "name": "python3",
      "display_name": "Python 3"
    },
    "language_info": {
      "name": "python"
    }
  },
  "cells": [
    {
      "cell_type": "markdown",
      "metadata": {
        "id": "view-in-github",
        "colab_type": "text"
      },
      "source": [
        "<a href=\"https://colab.research.google.com/github/Vithesh-Akula/SE_DEMO/blob/main/SE_LAB_261224.ipynb\" target=\"_parent\"><img src=\"https://colab.research.google.com/assets/colab-badge.svg\" alt=\"Open In Colab\"/></a>"
      ]
    },
    {
      "cell_type": "markdown",
      "source": [
        "HardCoded Variables"
      ],
      "metadata": {
        "id": "xQX_wrs2DEDg"
      }
    },
    {
      "cell_type": "code",
      "execution_count": null,
      "metadata": {
        "colab": {
          "base_uri": "https://localhost:8080/"
        },
        "id": "RFu0L34ECiSR",
        "outputId": "bea30867-7186-4d48-984d-b9de63baf0eb"
      },
      "outputs": [
        {
          "output_type": "stream",
          "name": "stdout",
          "text": [
            "Temperature at time 8 hours: 43.20\n"
          ]
        }
      ],
      "source": [
        "def weathermodeling(a, b, c, t):\n",
        "    Temperature = a * t**2 + b * t + c\n",
        "    return Temperature\n",
        "\n",
        "i, j, k = 0.3, 2, 8\n",
        "time = 8\n",
        "print(f\"Temperature at time {time} hours: {weathermodeling(i, j, k, time):.2f}\")"
      ]
    },
    {
      "cell_type": "markdown",
      "source": [
        "Keyboard Input"
      ],
      "metadata": {
        "id": "pauq3hFnDHZX"
      }
    },
    {
      "cell_type": "code",
      "source": [
        "def weathermodeling(a, b, c, t):\n",
        "    Temperature = a * t**2 + b * t + c\n",
        "    return Temperature\n",
        "\n",
        "print(\"Enter coefficients for the quadratic equation (x, y, z) and time (t):\")\n",
        "x = float(input(\"Coefficient x: \"))\n",
        "y = float(input(\"Coefficient y: \"))\n",
        "z = float(input(\"Coefficient z: \"))\n",
        "t = float(input(\"Time (t): \"))\n",
        "\n",
        "temperature = weathermodeling(x, y, z, t)\n",
        "print(f\"Temperature for coefficients ({x}, {y}, {z}) at time {t} hours: {temperature:.2f}\")\n"
      ],
      "metadata": {
        "colab": {
          "base_uri": "https://localhost:8080/"
        },
        "id": "YvUQEgQNDGNX",
        "outputId": "b7513f3a-39e1-49da-8e37-0d9077970822"
      },
      "execution_count": null,
      "outputs": [
        {
          "output_type": "stream",
          "name": "stdout",
          "text": [
            "Enter coefficients for the quadratic equation (x, y, z) and time (t):\n",
            "Coefficient x: 0.3\n",
            "Coefficient y: 2\n",
            "Coefficient z: 8\n",
            "Time (t): 8\n",
            "Temperature for coefficients (0.3, 2.0, 8.0) at time 8.0 hours: 43.20\n"
          ]
        }
      ]
    },
    {
      "cell_type": "markdown",
      "source": [
        "Read from File(Single Input)"
      ],
      "metadata": {
        "id": "6huMN56hDf7f"
      }
    },
    {
      "cell_type": "code",
      "source": [
        "def WeatherM(k, l, m, time):\n",
        "    temp = k * time**2 + l * time + m\n",
        "    return temp\n",
        "\n",
        "with open('single_input.txt', 'r') as file:\n",
        "    x = float(file.readline())\n",
        "    y = float(file.readline())\n",
        "    z = float(file.readline())\n",
        "    time = float(file.readline())\n",
        "\n",
        "print(\"Temp for file input at time\", time, \"hours:\", WeatherM(x, y, z, time))"
      ],
      "metadata": {
        "colab": {
          "base_uri": "https://localhost:8080/"
        },
        "id": "ALhxd3SIDusW",
        "outputId": "59363a2e-e44e-4274-a94a-f0859faab429"
      },
      "execution_count": null,
      "outputs": [
        {
          "output_type": "stream",
          "name": "stdout",
          "text": [
            "Temp for file input at time 8.0 hours: 43.2\n"
          ]
        }
      ]
    },
    {
      "cell_type": "markdown",
      "source": [
        "Read from File(Multiple Inputs)"
      ],
      "metadata": {
        "id": "yNZaGZGhDDi3"
      }
    },
    {
      "cell_type": "code",
      "source": [
        "def WeatherM(k, l, m, time):\n",
        "    temp = k * time**2 + l * time + m\n",
        "    return temp\n",
        "\n",
        "with open('multiple_input.txt', 'r') as file:\n",
        "    lines = file.readlines()\n",
        "    for line in lines:\n",
        "        k, l, m, time = map(float, line.split(','))\n",
        "        print(f\"Temp for inputs k={k}, l={l}, m={m} at time {time} hours: {WeatherM(k, l, m, time):.2f}\")\n"
      ],
      "metadata": {
        "id": "qpeOU4Q6EzuO",
        "colab": {
          "base_uri": "https://localhost:8080/"
        },
        "outputId": "38ffd70d-f880-44f2-a645-eff894f7ba9b"
      },
      "execution_count": 7,
      "outputs": [
        {
          "output_type": "stream",
          "name": "stdout",
          "text": [
            "Temp for inputs k=0.3, l=2.0, m=8.0 at time 8.0 hours: 43.20\n",
            "Temp for inputs k=0.4, l=1.5, m=7.0 at time 10.0 hours: 62.00\n",
            "Temp for inputs k=0.2, l=3.0, m=5.0 at time 6.0 hours: 30.20\n"
          ]
        }
      ]
    }
  ]
}